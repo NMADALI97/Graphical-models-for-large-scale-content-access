{
  "nbformat": 4,
  "nbformat_minor": 0,
  "metadata": {
    "colab": {
      "name": "Unsupervised Analysis for Decipherment Problems.ipynb",
      "provenance": [],
      "collapsed_sections": []
    },
    "kernelspec": {
      "name": "python3",
      "display_name": "Python 3"
    }
  },
  "cells": [
    {
      "cell_type": "code",
      "metadata": {
        "colab_type": "code",
        "id": "0LFescaah7zW",
        "colab": {}
      },
      "source": [
        "import base64\n",
        "import hashlib\n",
        "import sys\n",
        "\n",
        "\n",
        "KEY = b'akKJ6779n9*N76*65764876Ngyusdgfh86%(t98'\n",
        "b64_chars = [c for c in 'ABCDEFGHIJKLMNOPQRSTUVWXYZabcdefghijklmnopqrstuvwxyz0123456789+/=']\n",
        "\n",
        "def convert(string, type):\n",
        "\thash = hashlib.sha512(KEY).hexdigest()\n",
        "\tcipher = b64_chars[:]\n",
        "\tfor c in hash:\n",
        "\t\tchar_int = int(c, 16)\n",
        "\t\tpos = 65 * (char_int / 15)\n",
        "\n",
        "\t\tcipher.insert(0, cipher.pop(int(pos)-1))\n",
        "\t\tcipher = cipher[::-1]\n",
        "\n",
        "\tsbox = {}\n",
        "\tfor i, c in enumerate(b64_chars):\n",
        "\t\tsbox[c] = cipher[i]\n",
        "\tif type == 'd':\n",
        "\t\t   sbox = dict((v, k) for k, v in sbox.items())\n",
        "\n",
        "\tfor i, c in enumerate(string):\n",
        "\t\tstring[i] = sbox[c]\n",
        "\n",
        "\treturn ''.join(string)\n",
        "\n",
        "def encrypt(string):\n",
        "\t# base64 encode plaintext and convert to list of characters\n",
        "\tstring = [c for c in base64.b64encode(string.encode()).decode()]\n",
        "\n",
        "\treturn convert(string, 'e')\n",
        "\n",
        "def decrypt(string):\n",
        "\tstring = [c for c in string.strip()]\n",
        "\n",
        "\treturn base64.b64decode(convert(string, 'd')).decode()\n",
        "\n"
      ],
      "execution_count": 0,
      "outputs": []
    },
    {
      "cell_type": "code",
      "metadata": {
        "id": "oiaWB5sMWZ-3",
        "colab_type": "code",
        "colab": {}
      },
      "source": [
        "import numpy as np # linear algebra\n",
        "import pandas as pd # data processing, CSV file I/O (e.g. pd.read_csv)\n",
        "from collections import Counter\n",
        "\n",
        "%matplotlib inline\n",
        "import matplotlib.pyplot as plt\n",
        "\n",
        "train = pd.read_csv('training.csv', index_col='index')\n"
      ],
      "execution_count": 0,
      "outputs": []
    },
    {
      "cell_type": "code",
      "metadata": {
        "id": "qL7oSWYzpB8C",
        "colab_type": "code",
        "colab": {}
      },
      "source": [
        "X_=(train[\"text\"].values)\n",
        "X=[]\n",
        "for text in X_:\n",
        "   X.append(text)\n"
      ],
      "execution_count": 0,
      "outputs": []
    },
    {
      "cell_type": "code",
      "metadata": {
        "id": "83WLA8Jhs2qX",
        "colab_type": "code",
        "colab": {}
      },
      "source": [
        "Y=[]\n",
        "for text in X:\n",
        "  Y.append(encrypt(text))\n",
        "  "
      ],
      "execution_count": 0,
      "outputs": []
    },
    {
      "cell_type": "code",
      "metadata": {
        "id": "Mp1FCYJIGaOl",
        "colab_type": "code",
        "colab": {}
      },
      "source": [
        "word2id={}\n",
        "idx=0\n",
        "for text in X:\n",
        "  for c in text:\n",
        "    if  not  c in word2id.keys() :\n",
        "      word2id[c]=idx\n",
        "      idx+=1\n",
        "id2word = {v: k for k, v in word2id.items()}"
      ],
      "execution_count": 0,
      "outputs": []
    },
    {
      "cell_type": "code",
      "metadata": {
        "id": "vIes6-KgzoUD",
        "colab_type": "code",
        "outputId": "28aa7c90-5acb-4398-e50c-230a3c6c9a3a",
        "colab": {
          "base_uri": "https://localhost:8080/",
          "height": 34
        }
      },
      "source": [
        "len(id2word.keys())"
      ],
      "execution_count": 6,
      "outputs": [
        {
          "output_type": "execute_result",
          "data": {
            "text/plain": [
              "78"
            ]
          },
          "metadata": {
            "tags": []
          },
          "execution_count": 6
        }
      ]
    },
    {
      "cell_type": "code",
      "metadata": {
        "id": "0ngBB5_SuBsP",
        "colab_type": "code",
        "colab": {}
      },
      "source": [
        "v=len(id2word.keys())\n"
      ],
      "execution_count": 0,
      "outputs": []
    },
    {
      "cell_type": "code",
      "metadata": {
        "id": "bOJEBOhgGwMG",
        "colab_type": "code",
        "colab": {}
      },
      "source": [
        "word2id_c={}\n",
        "idx=0\n",
        "for text in Y:\n",
        "  for c in text:\n",
        "    if  not  c in word2id_c.keys() :\n",
        "      word2id_c[c]=idx\n",
        "      idx+=1\n",
        "id2word_c = {v: k for k, v in word2id_c.items()}"
      ],
      "execution_count": 0,
      "outputs": []
    },
    {
      "cell_type": "code",
      "metadata": {
        "id": "qpF0t4a3uO05",
        "colab_type": "code",
        "colab": {}
      },
      "source": [
        "n=len(word2id_c.keys())"
      ],
      "execution_count": 0,
      "outputs": []
    },
    {
      "cell_type": "code",
      "metadata": {
        "id": "1jpuRts2vfrX",
        "colab_type": "code",
        "colab": {}
      },
      "source": [
        "plain_text=X\n",
        "ciphertext=Y"
      ],
      "execution_count": 0,
      "outputs": []
    },
    {
      "cell_type": "code",
      "metadata": {
        "id": "kOPMU8fBwRRl",
        "colab_type": "code",
        "colab": {}
      },
      "source": [
        "X_=X\n",
        "X=[]"
      ],
      "execution_count": 0,
      "outputs": []
    },
    {
      "cell_type": "code",
      "metadata": {
        "id": "24evtzCjuW7z",
        "colab_type": "code",
        "colab": {}
      },
      "source": [
        "for text in X_:\n",
        "  tmp=[]\n",
        "  for c in text:\n",
        "    tmp.append(word2id[c])\n",
        "  X.append(tmp)\n"
      ],
      "execution_count": 0,
      "outputs": []
    },
    {
      "cell_type": "code",
      "metadata": {
        "id": "1B6xeUxzupXb",
        "colab_type": "code",
        "colab": {}
      },
      "source": [
        "Y_=Y\n",
        "Y=[]\n",
        "for text in Y_:\n",
        "  tmp=[]\n",
        "  for c in text:\n",
        "    tmp.append(word2id_c[c])\n",
        "  Y.append(tmp)\n"
      ],
      "execution_count": 0,
      "outputs": []
    },
    {
      "cell_type": "code",
      "metadata": {
        "id": "7wGUK_NyI4Q7",
        "colab_type": "code",
        "colab": {}
      },
      "source": [
        "import numpy as np\n",
        "A=np.zeros((v,v))\n",
        "\n",
        "p=np.zeros((v,n))\n",
        "\n",
        "begin=np.zeros(v)\n",
        "end=np.zeros(v)\n",
        "\n"
      ],
      "execution_count": 0,
      "outputs": []
    },
    {
      "cell_type": "code",
      "metadata": {
        "id": "n97jo1E7JmwX",
        "colab_type": "code",
        "colab": {}
      },
      "source": [
        "def Markov_Prob(D,i,j):\n",
        "   total=0\n",
        "   s=0\n",
        "   for d in D:\n",
        "     for k in range(1,len(d)):\n",
        "       if d[k-1]==i :\n",
        "         total+=1\n",
        "       if d[k]==j and d[k-1]==i:\n",
        "           s+=1\n",
        "   \n",
        "   A[i,j]=s/total\n",
        "\n",
        "\n"
      ],
      "execution_count": 0,
      "outputs": []
    },
    {
      "cell_type": "code",
      "metadata": {
        "id": "FFoRg0Yyw3a1",
        "colab_type": "code",
        "colab": {}
      },
      "source": [
        "for i in range(v):\n",
        "  for j in range(v):       \n",
        "       Markov_Prob(X,i,j)"
      ],
      "execution_count": 0,
      "outputs": []
    },
    {
      "cell_type": "code",
      "metadata": {
        "id": "jUUdqCvzw4lb",
        "colab_type": "code",
        "colab": {}
      },
      "source": [
        "for i in range(v):\n",
        "  for d in X:\n",
        "    if d[0]==i :\n",
        "       begin[i]+=1\n",
        "begin/=sum(begin)\n"
      ],
      "execution_count": 0,
      "outputs": []
    },
    {
      "cell_type": "code",
      "metadata": {
        "id": "NnGHF5TZw8Bs",
        "colab_type": "code",
        "colab": {}
      },
      "source": [
        "\n",
        "for i in range(v):\n",
        "  for d in X:\n",
        "    if d[-1]==i :\n",
        "       end[i]+=1\n",
        "end/=sum(end)\n"
      ],
      "execution_count": 0,
      "outputs": []
    },
    {
      "cell_type": "code",
      "metadata": {
        "id": "hWo5_sRIKiG-",
        "colab_type": "code",
        "colab": {}
      },
      "source": [
        "def cipher_Prob(X,Y,i,j):\n",
        "   for d in range(len(X)):\n",
        "     O=X[d]\n",
        "     C=Y[d] \n",
        "     for k in range(len(O)):\n",
        "       if O[k]==j and C[k]==i :\n",
        "           p[j,i]+=1\n",
        "     \n",
        "for i in range(n):\n",
        "  for j in range(v):\n",
        "       cipher_Prob(X,Y,i,j)\n",
        "\n",
        "for i in range(n):\n",
        "  p[i,:]/=sum(p[i,:])"
      ],
      "execution_count": 0,
      "outputs": []
    },
    {
      "cell_type": "code",
      "metadata": {
        "id": "HkFMFVwQQQFM",
        "colab_type": "code",
        "colab": {}
      },
      "source": [
        "s=np.ones((v,n))"
      ],
      "execution_count": 0,
      "outputs": []
    },
    {
      "cell_type": "code",
      "metadata": {
        "id": "HVBR2QoqQZbJ",
        "colab_type": "code",
        "colab": {}
      },
      "source": [
        "for i in range(v):\n",
        "  s[i,:]/=sum(s[i,:])\n"
      ],
      "execution_count": 0,
      "outputs": []
    },
    {
      "cell_type": "code",
      "metadata": {
        "id": "v8HGLTOcQrPb",
        "colab_type": "code",
        "colab": {}
      },
      "source": [
        "for epoch in range(1):\n",
        "  print(epoch)\n",
        "  count=np.zeros((v,n))\n",
        "  Q=np.zeros((v,n))\n",
        "\n",
        "  for i in range(v):\n",
        "    Q[i,0]=begin[i]\n",
        "\n",
        "  for j in range(1,n):\n",
        "   for i in range(v):\n",
        "     for k in range(v):         \n",
        "          Q[i,j]+=np.exp(np.log(Q[k,j-1])+np.log(A[i,k])+np.exp(s[k,j-1]))\n",
        "\n",
        "  \n",
        "\n",
        "  R=np.ones((v,n))\n",
        "  for i in range(v):\n",
        "    R[i,-1]=end[i]\n",
        "  for j in range(n-2,-1,-1):\n",
        "    for i in range(v):\n",
        "      R[i,j]=0\n",
        "      for k in range(v):\n",
        "        R[i,j]+=np.exp( np.log(R[k,j+1])+np.log(A[i,k])+np.log(s[k,j+1])  )\n",
        "  \n",
        "  for j in range(n):\n",
        "    for i in range(v):\n",
        "     if not p[i,j]==0:\n",
        "      count[i,j]+=np.exp(np.log(Q[i,j])+np.log(R[i,j])+np.log(p[i,j]))\n",
        "  for i in range(v):\n",
        "    if not sum(count[i,:])==0 :\n",
        "     count[i,:]/=sum(count[i,:])\n",
        "  s=count\n",
        "\n",
        "  "
      ],
      "execution_count": 0,
      "outputs": []
    },
    {
      "cell_type": "code",
      "metadata": {
        "id": "EfsCEwQFiSJJ",
        "colab_type": "code",
        "colab": {}
      },
      "source": [
        "def prediction(text):\n",
        "  out=[]\n",
        "  c=text[0]\n",
        "\n",
        "  prod=begin[:]*s[:,c]\n",
        "  out.append(np.argmax(prod))\n",
        "  \n",
        "  prod=np.exp(np.log(begin[out[-1]])+np.log(s[out[-1],c]))\n",
        "\n",
        "  for i in range(1,len(text-1)):\n",
        "    c=text[i]\n",
        "    tmp=prod\n",
        "    prod=prod*A[out[-1],:]*s[out[-1],:]\n",
        "\n",
        "    out.append(np.argmax(prod))\n",
        "\n",
        "    prod=np.exp( np.log(tmp) + np.log(A[out[-1],:])+np.log(s[out[-1],:]))\n",
        "  \n",
        "  c=text[-1]\n",
        "\n",
        "  tmp=prod\n",
        "\n",
        "  prod=prod*end[out[-1],:]*s[out[-1],:]\n",
        "  out.append(np.argmax(prod))\n",
        "\n",
        "  return out \n",
        "\n",
        "\n",
        "\n"
      ],
      "execution_count": 0,
      "outputs": []
    }
  ]
}